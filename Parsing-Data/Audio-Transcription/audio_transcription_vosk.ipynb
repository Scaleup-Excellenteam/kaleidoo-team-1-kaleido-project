{
 "cells": [
  {
   "cell_type": "code",
   "execution_count": 17,
   "metadata": {},
   "outputs": [],
   "source": [
    "import vosk\n",
    "import wave"
   ]
  },
  {
   "cell_type": "code",
   "execution_count": 24,
   "metadata": {},
   "outputs": [
    {
     "name": "stdout",
     "output_type": "stream",
     "text": [
      "--------------------------audio1_converted.wav---------------------------------------\n",
      "{\n",
      "  \"text\" : \"they tell me what do you think's gonna happen anyway\"\n",
      "}\n",
      "{\n",
      "  \"text\" : \"among the gonna come out of the couple i don't think you\"\n",
      "}\n",
      "{\n",
      "  \"text\" : \"you know we're done\"\n",
      "}\n",
      "{\n",
      "  \"text\" : \"just the mind playing tricks on you you did you know\"\n",
      "}\n",
      "{\n",
      "  \"text\" : \"no\"\n",
      "}\n",
      "--------------------------audio2_converted.wav---------------------------------------\n",
      "{\n",
      "  \"text\" : \"the birds canoes lid on the smooth planks\"\n",
      "}\n",
      "{\n",
      "  \"text\" : \"glue the see to a dark blue background\"\n",
      "}\n",
      "{\n",
      "  \"text\" : \"it is easy to tell the death of a well\"\n",
      "}\n",
      "{\n",
      "  \"text\" : \"these days a chicken leg as a rare dish\"\n",
      "}\n",
      "{\n",
      "  \"text\" : \"rice is often served and round bowls\"\n",
      "}\n",
      "{\n",
      "  \"text\" : \"the juice of lemons makes fine punch\"\n",
      "}\n",
      "{\n",
      "  \"text\" : \"the boxes on the side the puncture\"\n",
      "}\n",
      "{\n",
      "  \"text\" : \"the have referred top corn and garbage\"\n",
      "}\n",
      "{\n",
      "  \"text\" : \"for our the steady work faced\"\n",
      "}\n",
      "{\n",
      "  \"text\" : \"a large size and stockings is hard to sell\"\n",
      "}\n",
      "{\n",
      "  \"text\" : \"\"\n",
      "}\n",
      "--------------------------audio4_converted.wav---------------------------------------\n",
      "{\n",
      "  \"text\" : \"i want to dance can you help me\"\n",
      "}\n"
     ]
    }
   ],
   "source": [
    "def transcribe_audio_vosk(file_path):\n",
    "    model_path = r\"C:\\Users\\AMIR\\Desktop\\Kaleidoo\\Audio_Data\\vosk-model-small-en-us-0.15\"  # Path to the model directory\n",
    "    model = vosk.Model(model_path)\n",
    "    wf = wave.open(file_path, \"rb\")  # Use 'rb' for binary mode\n",
    "\n",
    "    if wf.getnchannels() != 1 or wf.getsampwidth() != 2 or wf.getframerate() != 16000:\n",
    "        print(\"Audio file must be WAV format mono PCM with 16kHz sample rate\")\n",
    "        return\n",
    "\n",
    "    rec = vosk.KaldiRecognizer(model, wf.getframerate())\n",
    "    while True:\n",
    "        data = wf.readframes(4000)\n",
    "        if len(data) == 0:\n",
    "            break\n",
    "        if rec.AcceptWaveform(data):\n",
    "            result = rec.Result()\n",
    "            print(result)\n",
    "    \n",
    "    print(rec.FinalResult())\n",
    "print('--------------------------audio1_converted.wav---------------------------------------')\n",
    "AUDIO_PATH1 = r\"C:\\Users\\AMIR\\Desktop\\Kaleidoo\\Audio_Data\\English\\audio1_converted.wav\"  # Use the converted file if needed\n",
    "transcribe_audio_vosk(AUDIO_PATH1)\n",
    "print('--------------------------audio2_converted.wav---------------------------------------')\n",
    "AUDIO_PATH2 = r\"C:\\Users\\AMIR\\Desktop\\Kaleidoo\\Audio_Data\\English\\audio2_converted.wav\"  # Use the converted file if needed\n",
    "transcribe_audio_vosk(AUDIO_PATH2)\n",
    "print('--------------------------audio3_converted.wav---------------------------------------')\n",
    "AUDIO_PATH3 = r\"C:\\Users\\AMIR\\Desktop\\Kaleidoo\\Audio_Data\\English\\audio3_converted.wav\"  # Use the converted file if needed\n",
    "transcribe_audio_vosk(AUDIO_PATH3)"
   ]
  },
  {
   "cell_type": "code",
   "execution_count": 26,
   "metadata": {},
   "outputs": [
    {
     "name": "stdout",
     "output_type": "stream",
     "text": [
      "{\n",
      "  \"text\" : \"исходов пальце в угодья\"\n",
      "}\n",
      "{\n",
      "  \"text\" : \"поехали хутора виноградной лозы\"\n",
      "}\n",
      "{\n",
      "  \"text\" : \"первая\"\n",
      "}\n",
      "{\n",
      "  \"text\" : \"\"\n",
      "}\n"
     ]
    }
   ],
   "source": [
    "def transcribe_audio_vosk2(file_path):\n",
    "    model_path = r\"C:\\Users\\AMIR\\Desktop\\Kaleidoo\\Audio_Data\\vosk-model-small-ru-0.22\"  # Path to the model directory\n",
    "    model = vosk.Model(model_path)\n",
    "    wf = wave.open(file_path, \"rb\")  # Use 'rb' for binary mode\n",
    "\n",
    "    if wf.getnchannels() != 1 or wf.getsampwidth() != 2 or wf.getframerate() != 16000:\n",
    "        print(\"Audio file must be WAV format mono PCM with 16kHz sample rate\")\n",
    "        return\n",
    "\n",
    "    rec = vosk.KaldiRecognizer(model, wf.getframerate())\n",
    "    while True:\n",
    "        data = wf.readframes(4000)\n",
    "        if len(data) == 0:\n",
    "            break\n",
    "        if rec.AcceptWaveform(data):\n",
    "            result = rec.Result()\n",
    "            print(result)\n",
    "    \n",
    "    print(rec.FinalResult())\n",
    "\n",
    "AUDIO_PATH = r\"C:\\Users\\AMIR\\Desktop\\Kaleidoo\\Audio_Data\\Russian\\audio1_converted.wav\"  # Use the converted file if needed\n",
    "transcribe_audio_vosk2(AUDIO_PATH)"
   ]
  }
 ],
 "metadata": {
  "kernelspec": {
   "display_name": "myenv",
   "language": "python",
   "name": "python3"
  },
  "language_info": {
   "codemirror_mode": {
    "name": "ipython",
    "version": 3
   },
   "file_extension": ".py",
   "mimetype": "text/x-python",
   "name": "python",
   "nbconvert_exporter": "python",
   "pygments_lexer": "ipython3",
   "version": "3.12.6"
  }
 },
 "nbformat": 4,
 "nbformat_minor": 2
}
