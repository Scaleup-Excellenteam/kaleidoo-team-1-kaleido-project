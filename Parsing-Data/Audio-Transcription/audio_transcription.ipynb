{
 "cells": [
  {
   "cell_type": "code",
   "execution_count": 5,
   "metadata": {},
   "outputs": [],
   "source": [
    "import vosk\n",
    "import sys\n",
    "import wave"
   ]
  },
  {
   "cell_type": "code",
   "execution_count": 16,
   "metadata": {},
   "outputs": [
    {
     "name": "stdout",
     "output_type": "stream",
     "text": [
      "Audio file must be WAV format mono PCM with 16kHz sample rate\n"
     ]
    }
   ],
   "source": [
    "def transcribe_audio_vosk(file_path):\n",
    "    model_path = r\"C:\\Users\\AMIR\\Desktop\\Kaleidoo\\Audio_Data\\vosk-model-small-en-us-0.15\"  # Correct path to the model directory\n",
    "    model = vosk.Model(model_path)\n",
    "    wf = wave.open(file_path, \"rb\")\n",
    "\n",
    "    if wf.getnchannels() != 1 or wf.getsampwidth() != 2 or wf.getframerate() != 16000:\n",
    "        print(\"Audio file must be WAV format mono PCM with 16kHz sample rate\")\n",
    "        return\n",
    "\n",
    "    rec = vosk.KaldiRecognizer(model, wf.getframerate())\n",
    "    while True:\n",
    "        data = wf.readframes(4000)\n",
    "        if len(data) == 0:\n",
    "            break\n",
    "        if rec.AcceptWaveform(data):\n",
    "            result = rec.Result()\n",
    "            print(result)\n",
    "    \n",
    "    print(rec.FinalResult())\n",
    "\n",
    "AUDIO_PATH=r\"C:\\Users\\AMIR\\Desktop\\Kaleidoo\\Audio_Data\\OSR_us_000_0010_8k.wav\"\n",
    "# Provide the correct path to your audio file\n",
    "transcribe_audio_vosk(AUDIO_PATH)"
   ]
  }
 ],
 "metadata": {
  "kernelspec": {
   "display_name": "myenv",
   "language": "python",
   "name": "python3"
  },
  "language_info": {
   "codemirror_mode": {
    "name": "ipython",
    "version": 3
   },
   "file_extension": ".py",
   "mimetype": "text/x-python",
   "name": "python",
   "nbconvert_exporter": "python",
   "pygments_lexer": "ipython3",
   "version": "3.12.6"
  }
 },
 "nbformat": 4,
 "nbformat_minor": 2
}
