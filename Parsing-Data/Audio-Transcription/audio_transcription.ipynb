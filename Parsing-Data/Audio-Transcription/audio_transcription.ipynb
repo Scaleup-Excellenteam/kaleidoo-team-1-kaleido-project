{
 "cells": [
  {
   "cell_type": "code",
   "execution_count": 2,
   "metadata": {},
   "outputs": [],
   "source": [
    "import vosk\n",
    "import sys\n",
    "import wave"
   ]
  },
  {
   "cell_type": "code",
   "execution_count": 4,
   "metadata": {},
   "outputs": [
    {
     "name": "stdout",
     "output_type": "stream",
     "text": [
      "{\n",
      "  \"text\" : \"the birds canoes lid on the smooth planks\"\n",
      "}\n",
      "{\n",
      "  \"text\" : \"glue the see to the dark blue background\"\n",
      "}\n",
      "{\n",
      "  \"text\" : \"it is easy to tell the death of a well\"\n",
      "}\n",
      "{\n",
      "  \"text\" : \"these days a chicken leg as a rare dish\"\n",
      "}\n",
      "{\n",
      "  \"text\" : \"rice is often served and round bowls\"\n",
      "}\n",
      "{\n",
      "  \"text\" : \"the juice of lemons makes find punch\"\n",
      "}\n",
      "{\n",
      "  \"text\" : \"the box on the side the puncture\"\n",
      "}\n",
      "{\n",
      "  \"text\" : \"the have referred top corn and garbage\"\n",
      "}\n",
      "{\n",
      "  \"text\" : \"for our the steady work faced\"\n",
      "}\n",
      "{\n",
      "  \"text\" : \"a large size and stockings is hard to sell\"\n",
      "}\n",
      "{\n",
      "  \"text\" : \"\"\n",
      "}\n"
     ]
    }
   ],
   "source": [
    "def transcribe_audio_vosk(file_path):\n",
    "    model_path = r\"C:\\Users\\AMIR\\Desktop\\Kaleidoo\\Audio_Data\\vosk-model-small-en-us-0.15\"  # Path to the model directory\n",
    "    model = vosk.Model(model_path)\n",
    "    wf = wave.open(file_path, \"rb\")  # Use 'rb' for binary mode\n",
    "\n",
    "    if wf.getnchannels() != 1 or wf.getsampwidth() != 2 or wf.getframerate() != 16000:\n",
    "        print(\"Audio file must be WAV format mono PCM with 16kHz sample rate\")\n",
    "        return\n",
    "\n",
    "    rec = vosk.KaldiRecognizer(model, wf.getframerate())\n",
    "    while True:\n",
    "        data = wf.readframes(4000)\n",
    "        if len(data) == 0:\n",
    "            break\n",
    "        if rec.AcceptWaveform(data):\n",
    "            result = rec.Result()\n",
    "            print(result)\n",
    "    \n",
    "    print(rec.FinalResult())\n",
    "\n",
    "AUDIO_PATH = r\"C:\\Users\\AMIR\\Desktop\\Kaleidoo\\Audio_Data\\audio2_converted.wav\"  # Use the converted file if needed\n",
    "transcribe_audio_vosk(AUDIO_PATH)"
   ]
  }
 ],
 "metadata": {
  "kernelspec": {
   "display_name": "myenv",
   "language": "python",
   "name": "python3"
  },
  "language_info": {
   "codemirror_mode": {
    "name": "ipython",
    "version": 3
   },
   "file_extension": ".py",
   "mimetype": "text/x-python",
   "name": "python",
   "nbconvert_exporter": "python",
   "pygments_lexer": "ipython3",
   "version": "3.12.6"
  }
 },
 "nbformat": 4,
 "nbformat_minor": 2
}
