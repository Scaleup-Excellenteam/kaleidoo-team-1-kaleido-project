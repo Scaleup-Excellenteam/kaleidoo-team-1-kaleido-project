{
 "cells": [
  {
   "cell_type": "code",
   "execution_count": 6,
   "metadata": {},
   "outputs": [
    {
     "name": "stdout",
     "output_type": "stream",
     "text": [
      "File exists: C:\\Users\\AMIR\\Desktop\\Kaleidoo\\Audio_Data\\English\\A1.wav\n",
      "File opened successfully for reading.\n",
      "Error during language detection: [WinError 2] The system cannot find the file specified\n",
      "Error during transcription: [WinError 2] The system cannot find the file specified\n"
     ]
    },
    {
     "name": "stderr",
     "output_type": "stream",
     "text": [
      "c:\\Users\\AMIR\\Desktop\\Kaleidoo\\myenv\\Lib\\site-packages\\whisper\\transcribe.py:115: UserWarning: FP16 is not supported on CPU; using FP32 instead\n",
      "  warnings.warn(\"FP16 is not supported on CPU; using FP32 instead\")\n"
     ]
    }
   ],
   "source": [
    "import whisper\n",
    "import os\n",
    "import warnings\n",
    "\n",
    "# Suppress FutureWarning from torch\n",
    "warnings.filterwarnings(\"ignore\", category=FutureWarning)\n",
    "\n",
    "# Load the Whisper model\n",
    "model = whisper.load_model(\"base\", download_root=\"./whisper-models\")\n",
    "\n",
    "# Test audio file path\n",
    "test_audio_file = r\"C:\\Users\\AMIR\\Desktop\\Kaleidoo\\Audio_Data\\English\\A1.wav\"\n",
    "\n",
    "# Check if the file exists\n",
    "if os.path.exists(test_audio_file):\n",
    "    print(f\"File exists: {test_audio_file}\")\n",
    "\n",
    "    # Attempt to open and read the file\n",
    "    try:\n",
    "        with open(test_audio_file, 'rb') as f:\n",
    "            print(\"File opened successfully for reading.\")\n",
    "        \n",
    "        # Load audio and detect language\n",
    "        try:\n",
    "            audio = whisper.load_audio(test_audio_file)\n",
    "            audio = whisper.pad_or_trim(audio)\n",
    "            mel = whisper.log_mel_spectrogram(audio).to(model.device)\n",
    "            \n",
    "            _, probs = model.detect_language(mel)\n",
    "            detected_language = max(probs, key=probs.get)\n",
    "            print(f\"Detected Language: {detected_language}\")\n",
    "        except Exception as e:\n",
    "            print(f\"Error during language detection: {e}\")\n",
    "\n",
    "        # Transcribe audio\n",
    "        try:\n",
    "            result = model.transcribe(test_audio_file)\n",
    "            print(\"Transcription Result:\", result['text'])\n",
    "        except Exception as e:\n",
    "            print(f\"Error during transcription: {e}\")\n",
    "\n",
    "    except Exception as e:\n",
    "        print(f\"Error opening file: {e}\")\n",
    "else:\n",
    "    print(f\"File not found: {test_audio_file}\")\n"
   ]
  }
 ],
 "metadata": {
  "kernelspec": {
   "display_name": "myenv",
   "language": "python",
   "name": "python3"
  },
  "language_info": {
   "codemirror_mode": {
    "name": "ipython",
    "version": 3
   },
   "file_extension": ".py",
   "mimetype": "text/x-python",
   "name": "python",
   "nbconvert_exporter": "python",
   "pygments_lexer": "ipython3",
   "version": "3.12.6"
  }
 },
 "nbformat": 4,
 "nbformat_minor": 2
}
