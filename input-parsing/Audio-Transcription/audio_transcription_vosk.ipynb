{
 "cells": [
  {
   "cell_type": "code",
   "execution_count": 21,
   "metadata": {},
   "outputs": [],
   "source": [
    "import vosk\n",
    "import wave\n",
    "import time\n",
    "import psutil\n",
    "import json\n",
    "from paths import ENGPATH1, ENGPATH2, ENGPATH3, RUSSPATH1, VOSKRUSSMOD, VOSKENGMOD"
   ]
  },
  {
   "cell_type": "code",
   "execution_count": 22,
   "metadata": {},
   "outputs": [
    {
     "name": "stderr",
     "output_type": "stream",
     "text": [
      "LOG (VoskAPI:ReadDataFiles():model.cc:213) Decoding params beam=10 max-active=3000 lattice-beam=2\n",
      "LOG (VoskAPI:ReadDataFiles():model.cc:216) Silence phones 1:2:3:4:5:6:7:8:9:10\n",
      "LOG (VoskAPI:RemoveOrphanNodes():nnet-nnet.cc:948) Removed 0 orphan nodes.\n",
      "LOG (VoskAPI:RemoveOrphanComponents():nnet-nnet.cc:847) Removing 0 orphan components.\n",
      "LOG (VoskAPI:ReadDataFiles():model.cc:248) Loading i-vector extractor from /home/ameer/Kaleidoo/Audio_Data/vosk-model-small-en-us-0.15/ivector/final.ie\n",
      "LOG (VoskAPI:ComputeDerivedVars():ivector-extractor.cc:183) Computing derived variables for iVector extractor\n",
      "LOG (VoskAPI:ComputeDerivedVars():ivector-extractor.cc:204) Done.\n",
      "LOG (VoskAPI:ReadDataFiles():model.cc:282) Loading HCL and G from /home/ameer/Kaleidoo/Audio_Data/vosk-model-small-en-us-0.15/graph/HCLr.fst /home/ameer/Kaleidoo/Audio_Data/vosk-model-small-en-us-0.15/graph/Gr.fst\n",
      "LOG (VoskAPI:ReadDataFiles():model.cc:308) Loading winfo /home/ameer/Kaleidoo/Audio_Data/vosk-model-small-en-us-0.15/graph/phones/word_boundary.int\n"
     ]
    }
   ],
   "source": [
    "model = vosk.Model(VOSKENGMOD)"
   ]
  },
  {
   "cell_type": "code",
   "execution_count": 23,
   "metadata": {},
   "outputs": [],
   "source": [
    "def transcribe_audio_vosk(file_path):\n",
    "   \n",
    "   \n",
    "    wf = wave.open(file_path, \"rb\")  # Use 'rb' for binary mode\n",
    "\n",
    "    if wf.getnchannels() != 1 or wf.getsampwidth() != 2 or wf.getframerate() != 16000:\n",
    "        print(\"Audio file must be WAV format mono PCM with 16kHz sample rate\")\n",
    "        return\n",
    "\n",
    "    rec = vosk.KaldiRecognizer(model, wf.getframerate())\n",
    "    full_transcription = \"\"  # To store the entire transcription\n",
    "\n",
    "    while True:\n",
    "        data = wf.readframes(4000)\n",
    "        if len(data) == 0:\n",
    "            break\n",
    "        if rec.AcceptWaveform(data):\n",
    "            result = rec.Result()\n",
    "            result_dict = json.loads(result)  # Convert JSON result to dictionary\n",
    "            full_transcription += result_dict.get(\"text\", \"\") + \" \"  # Append the text\n",
    "\n",
    "    # Final result (if any remaining parts)\n",
    "    final_result = rec.FinalResult()\n",
    "    final_result_dict = json.loads(final_result)\n",
    "    full_transcription += final_result_dict.get(\"text\", \"\")  # Append the final part of transcription\n",
    "\n",
    "    # Strip leading/trailing whitespace and print the entire transcription\n",
    "    print(f\"Transcription: {full_transcription.strip()}\")"
   ]
  },
  {
   "cell_type": "code",
   "execution_count": 24,
   "metadata": {},
   "outputs": [
    {
     "name": "stdout",
     "output_type": "stream",
     "text": [
      "----------------------------------Vosk-----------------------------------------------\n",
      "\n",
      "--------------------------audio1_converted.wav---------------------------------------\n",
      "Transcription: they tell me what do you think's gonna happen anyway among the gonna come out of the couple i don't think you you know we're done just the mind playing tricks on you you did you know no\n",
      "Elapsed time: 2.18 seconds\n",
      "CPU usage at end: 12.3%\n",
      "Memory used at start: 3494.42 MB\n",
      "Memory used at end: 3464.50 MB\n",
      "--------------------------audio2_converted.wav---------------------------------------\n",
      "Transcription: the birds canoes lid on the smooth planks glue the see to a dark blue background it is easy to tell the death of a well these days a chicken leg as a rare dish rice is often served and round bowls the juice of lemons makes fine punch the box on the side the puncture the have referred top corn and garbage four our the steady work faced a large size and stockings is hard to sell\n",
      "Elapsed time: 3.10 seconds\n",
      "CPU usage at end: 10.0%\n",
      "Memory used at start: 3464.50 MB\n",
      "Memory used at end: 3450.90 MB\n",
      "--------------------------audio3_converted.wav---------------------------------------\n",
      "Transcription: i want to dance can you help me\n",
      "Elapsed time: 0.58 seconds\n",
      "CPU usage at end: 8.6%\n",
      "Memory used at start: 3450.90 MB\n",
      "Memory used at end: 3448.11 MB\n"
     ]
    }
   ],
   "source": [
    "def monitor_resources_vosk(file_path,):\n",
    "    # Record the start time and resource usage\n",
    "    start_time = time.time()\n",
    "    start_cpu_percent = psutil.cpu_percent(interval=None)\n",
    "    start_memory_info = psutil.virtual_memory().used / (1024 * 1024)  # Convert to MB\n",
    "\n",
    "    # Transcribe the audio file using Vosk\n",
    "    transcribe_audio_vosk(file_path)\n",
    "\n",
    "    # Record the end time and resource usage\n",
    "    end_time = time.time()\n",
    "    end_cpu_percent = psutil.cpu_percent(interval=None)\n",
    "    end_memory_info = psutil.virtual_memory().used / (1024 * 1024)  # Convert to MB\n",
    "\n",
    "    # Calculate elapsed time\n",
    "    elapsed_time = end_time - start_time\n",
    "\n",
    "    # Print the results\n",
    "    print(f\"Elapsed time: {elapsed_time:.2f} seconds\")\n",
    "    print(f\"CPU usage at end: {end_cpu_percent}%\")\n",
    "    print(f\"Memory used at start: {start_memory_info:.2f} MB\")\n",
    "    print(f\"Memory used at end: {end_memory_info:.2f} MB\")\n",
    "\n",
    "\n",
    "print('----------------------------------Vosk-----------------------------------------------')\n",
    "print()\n",
    "print('--------------------------audio1_converted.wav---------------------------------------')\n",
    "monitor_resources_vosk(ENGPATH1)\n",
    "\n",
    "print('--------------------------audio2_converted.wav---------------------------------------')\n",
    "AUDIO_PATH2 = r\"C:\\Users\\AMIR\\Desktop\\Kaleidoo\\Audio_Data\\English\\audio2_converted.wav\"\n",
    "monitor_resources_vosk(ENGPATH2) \n",
    "print('--------------------------audio3_converted.wav---------------------------------------')\n",
    "AUDIO_PATH3 = r\"C:\\Users\\AMIR\\Desktop\\Kaleidoo\\Audio_Data\\English\\audio3_converted.wav\"\n",
    "monitor_resources_vosk(ENGPATH3)"
   ]
  },
  {
   "cell_type": "code",
   "execution_count": 25,
   "metadata": {},
   "outputs": [
    {
     "name": "stderr",
     "output_type": "stream",
     "text": [
      "LOG (VoskAPI:ReadDataFiles():model.cc:213) Decoding params beam=10 max-active=3000 lattice-beam=2\n",
      "LOG (VoskAPI:ReadDataFiles():model.cc:216) Silence phones 1:2:3:4:5:6:7:8:9:10\n",
      "LOG (VoskAPI:RemoveOrphanNodes():nnet-nnet.cc:948) Removed 0 orphan nodes.\n",
      "LOG (VoskAPI:RemoveOrphanComponents():nnet-nnet.cc:847) Removing 0 orphan components.\n",
      "LOG (VoskAPI:ReadDataFiles():model.cc:248) Loading i-vector extractor from /home/ameer/Kaleidoo/Audio_Data/vosk-model-small-ru-0.22/ivector/final.ie\n",
      "LOG (VoskAPI:ComputeDerivedVars():ivector-extractor.cc:183) Computing derived variables for iVector extractor\n",
      "LOG (VoskAPI:ComputeDerivedVars():ivector-extractor.cc:204) Done.\n",
      "LOG (VoskAPI:ReadDataFiles():model.cc:282) Loading HCL and G from /home/ameer/Kaleidoo/Audio_Data/vosk-model-small-ru-0.22/graph/HCLr.fst /home/ameer/Kaleidoo/Audio_Data/vosk-model-small-ru-0.22/graph/Gr.fst\n",
      "LOG (VoskAPI:ReadDataFiles():model.cc:308) Loading winfo /home/ameer/Kaleidoo/Audio_Data/vosk-model-small-ru-0.22/graph/phones/word_boundary.int\n"
     ]
    }
   ],
   "source": [
    "model = vosk.Model(VOSKRUSSMOD)"
   ]
  },
  {
   "cell_type": "code",
   "execution_count": 26,
   "metadata": {},
   "outputs": [
    {
     "name": "stdout",
     "output_type": "stream",
     "text": [
      "Transcription: исходов пальце в угодья поехали хутора виноградной лозы первая\n",
      "Elapsed time: 2.17 seconds\n",
      "CPU usage at end: 7.9%\n",
      "Memory used at start: 3473.39 MB\n",
      "Memory used at end: 3536.12 MB\n"
     ]
    }
   ],
   "source": [
    "\n",
    "monitor_resources_vosk(RUSSPATH1)"
   ]
  }
 ],
 "metadata": {
  "kernelspec": {
   "display_name": "myenv",
   "language": "python",
   "name": "python3"
  },
  "language_info": {
   "codemirror_mode": {
    "name": "ipython",
    "version": 3
   },
   "file_extension": ".py",
   "mimetype": "text/x-python",
   "name": "python",
   "nbconvert_exporter": "python",
   "pygments_lexer": "ipython3",
   "version": "3.10.12"
  }
 },
 "nbformat": 4,
 "nbformat_minor": 2
}
